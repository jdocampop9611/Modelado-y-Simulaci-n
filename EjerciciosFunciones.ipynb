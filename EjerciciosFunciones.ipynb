{
  "nbformat": 4,
  "nbformat_minor": 0,
  "metadata": {
    "colab": {
      "name": "EjerciciosFunciones.ipynb",
      "provenance": [],
      "authorship_tag": "ABX9TyOHcYIYm9x6FpjkFA81Asbs",
      "include_colab_link": true
    },
    "kernelspec": {
      "name": "python3",
      "display_name": "Python 3"
    }
  },
  "cells": [
    {
      "cell_type": "markdown",
      "metadata": {
        "id": "view-in-github",
        "colab_type": "text"
      },
      "source": [
        "<a href=\"https://colab.research.google.com/github/jdocampop9611/Modelado-y-Simulaci-n/blob/master/EjerciciosFunciones.ipynb\" target=\"_parent\"><img src=\"https://colab.research.google.com/assets/colab-badge.svg\" alt=\"Open In Colab\"/></a>"
      ]
    },
    {
      "cell_type": "code",
      "metadata": {
        "id": "kg2dnGJaU3YY",
        "colab_type": "code",
        "colab": {}
      },
      "source": [
        "import numpy as np"
      ],
      "execution_count": null,
      "outputs": []
    },
    {
      "cell_type": "markdown",
      "metadata": {
        "id": "qAywOfncU7X_",
        "colab_type": "text"
      },
      "source": [
        "Escribir una función que reciba una muestra de números en una lista y devuelva otra lista con sus cuadrados."
      ]
    },
    {
      "cell_type": "code",
      "metadata": {
        "id": "iynUFK6-VDre",
        "colab_type": "code",
        "colab": {}
      },
      "source": [
        "def cuadrados(nums):\n",
        "  cuadrado=[x**2 for x in nums]\n",
        "  return cuadrado"
      ],
      "execution_count": null,
      "outputs": []
    },
    {
      "cell_type": "code",
      "metadata": {
        "id": "r9TiD4dFWBmi",
        "colab_type": "code",
        "colab": {
          "base_uri": "https://localhost:8080/",
          "height": 34
        },
        "outputId": "e4d752a0-747c-4869-a68c-6a95b9603eb8"
      },
      "source": [
        "num=[2,5,6,4,8]\n",
        "numcuadra=cuadrados(num)\n",
        "print(numcuadra)"
      ],
      "execution_count": null,
      "outputs": [
        {
          "output_type": "stream",
          "text": [
            "[4, 25, 36, 16, 64]\n"
          ],
          "name": "stdout"
        }
      ]
    },
    {
      "cell_type": "markdown",
      "metadata": {
        "id": "XZRP-6PUW_VJ",
        "colab_type": "text"
      },
      "source": [
        "Escribir una función que convierta un número decimal en binario y otra que convierta un número binario en decimal."
      ]
    },
    {
      "cell_type": "code",
      "metadata": {
        "id": "l7k5XZyzhxi6",
        "colab_type": "code",
        "colab": {}
      },
      "source": [
        "def dectobinari(decimal):\n",
        "    binario = ''\n",
        "    while decimal // 2 != 0:\n",
        "        binario = str(decimal % 2) + binario\n",
        "        decimal = decimal // 2\n",
        "    return str(decimal) + binario"
      ],
      "execution_count": null,
      "outputs": []
    },
    {
      "cell_type": "code",
      "metadata": {
        "id": "32NRu9fIhyMN",
        "colab_type": "code",
        "colab": {
          "base_uri": "https://localhost:8080/",
          "height": 35
        },
        "outputId": "96a33d92-b655-4163-a0cf-20fd681b86a9"
      },
      "source": [
        "x=25\n",
        "binarizar(x)"
      ],
      "execution_count": null,
      "outputs": [
        {
          "output_type": "execute_result",
          "data": {
            "application/vnd.google.colaboratory.intrinsic+json": {
              "type": "string"
            },
            "text/plain": [
              "'11001'"
            ]
          },
          "metadata": {
            "tags": []
          },
          "execution_count": 5
        }
      ]
    },
    {
      "cell_type": "code",
      "metadata": {
        "id": "B_0YMD64h3Cc",
        "colab_type": "code",
        "colab": {}
      },
      "source": [
        "def bintoDec(X):\n",
        "  H=0\n",
        "  tx=len(X)\n",
        "  dec=0\n",
        "  t1=tx-1\n",
        "  for i in range (0,tx):\n",
        "    H=H+X[i]*2**(t1-i)\n",
        "  dec=H \n",
        "  H=0\n",
        "  return dec\n",
        "\n",
        "\n"
      ],
      "execution_count": null,
      "outputs": []
    },
    {
      "cell_type": "code",
      "metadata": {
        "id": "irY3esi5lkQk",
        "colab_type": "code",
        "colab": {
          "base_uri": "https://localhost:8080/",
          "height": 34
        },
        "outputId": "712994de-54ee-468d-b11e-9d488b07c787"
      },
      "source": [
        "X=[1, 1, 0, 0, 1]\n",
        "bintoDec(X)\n"
      ],
      "execution_count": null,
      "outputs": [
        {
          "output_type": "execute_result",
          "data": {
            "text/plain": [
              "25"
            ]
          },
          "metadata": {
            "tags": []
          },
          "execution_count": 16
        }
      ]
    },
    {
      "cell_type": "markdown",
      "metadata": {
        "id": "ePvwBaSIrrTj",
        "colab_type": "text"
      },
      "source": [
        ""
      ]
    },
    {
      "cell_type": "code",
      "metadata": {
        "id": "HeYd6h1vn6Jj",
        "colab_type": "code",
        "colab": {}
      },
      "source": [
        ""
      ],
      "execution_count": null,
      "outputs": []
    }
  ]
}