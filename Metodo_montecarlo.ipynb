{
  "nbformat": 4,
  "nbformat_minor": 0,
  "metadata": {
    "colab": {
      "name": "Metodo_montecarlo.ipynb",
      "provenance": [],
      "collapsed_sections": [],
      "include_colab_link": true
    },
    "kernelspec": {
      "name": "python3",
      "display_name": "Python 3"
    }
  },
  "cells": [
    {
      "cell_type": "markdown",
      "metadata": {
        "id": "view-in-github",
        "colab_type": "text"
      },
      "source": [
        "<a href=\"https://colab.research.google.com/github/jdocampop9611/Modelado-y-Simulaci-n/blob/master/Metodo_montecarlo.ipynb\" target=\"_parent\"><img src=\"https://colab.research.google.com/assets/colab-badge.svg\" alt=\"Open In Colab\"/></a>"
      ]
    },
    {
      "cell_type": "markdown",
      "metadata": {
        "id": "428feXoh_ZAj"
      },
      "source": [
        "# Metodo de Montecarlo\n",
        "\n",
        "El método de Montecarlo es un método no determinista o estadístico numérico, usado para aproximar expresiones matemáticas complejas y costosas de evaluar con exactitud.\n",
        "\n",
        "El método de Montecarlo proporciona soluciones aproximadas a una gran variedad de problemas matemáticos posibilitando la realización de experimentos con muestreos de números pseudoaleatorios en una computadora.\n",
        "\n",
        "# Integración de Montecarlo\n",
        "\n",
        "Los métodos de integración de Montecarlo son algoritmos para encontrar una evaluación aproximada de una integral definida.\n",
        "\n",
        "Parte de generar numeros aleatorios en un rango definido (limites de la integral), evaluando estos números en la función que queremos integrar y aprovechando el teorema del valor medio de una integral, es posible calcular una aproximación del resultado.\n",
        "\n",
        "Según el teorema del valor medio de una integral:\n",
        "\n",
        "\\begin{equation}\n",
        "\\ <F>= \\frac{1}{b-a}*\\int_{a}^{b}(f(x))dx\n",
        "\\tag{1}\n",
        "\\end{equation}\n",
        "\n",
        "Despejando (1) tenemos que:\n",
        "\n",
        "\\begin{equation}\n",
        "\\int_{a}^{b}(f(x))dx=\\frac{b-a}{N}*\\sum_{i=0}^{N}f(x_i)\\\\\n",
        "\\tag{2}\n",
        "\\end{equation}\n",
        "\n",
        "# Resolver ODE's con Montecarlo\n",
        "\n",
        "La ecuacion diferencial ordinaría de la forma:\n",
        "\n",
        "\\begin{equation}\n",
        "\\frac{d}{dt} y(t) = g(y(t), t),\\ y(x_0)=y_0\n",
        "\\tag{3}\n",
        "\\end{equation}\n",
        "\n",
        "Se puede escribir como una ecuación integral de la siguiente forma:\n",
        "\n",
        "\\begin{equation}\n",
        "y(x)=y(x_0)+\\int_{x_0}^{x}f(y(\\epsilon))d\\epsilon\\\\\n",
        "\\tag{4}\n",
        "\\end{equation}\n",
        "\n",
        "Aplicando la tecnica de integración de montecarlo, tenemos que:\n",
        "\n",
        "\\begin{equation}\n",
        "y(x_i)=y(x_{i-1})+\\frac{x_{i}-x_{i-1}}{N}*\\sum_{n=0}^{N}f(x_n)\\\\\n",
        "\\tag{5}\n",
        "\\end{equation}\n",
        "\n"
      ]
    },
    {
      "cell_type": "code",
      "metadata": {
        "id": "5Jtlbjc0YrQM"
      },
      "source": [
        "import numpy as np\n",
        "import matplotlib.pyplot  as plt\n",
        "from random import randint\n",
        "import math\n",
        "from scipy import random"
      ],
      "execution_count": null,
      "outputs": []
    },
    {
      "cell_type": "code",
      "metadata": {
        "id": "kw3jPh54Y8IU"
      },
      "source": [
        "def f(x,t):\n",
        "  return x**3+2\n",
        "\n",
        "def f2(x,t):\n",
        "  xt=1-4*x*(1-x)\n",
        "  return xt\n",
        "\n",
        "def fcn (x,t):\n",
        "  return (-x)\n",
        "\n",
        "def f3(x,t):\n",
        "  return np.sin(x)\n",
        "\n",
        "def f4(x):\n",
        "  return x**2"
      ],
      "execution_count": null,
      "outputs": []
    },
    {
      "cell_type": "code",
      "metadata": {
        "id": "wTO9h0xip63P"
      },
      "source": [
        "def euler(f,y0,t_ini,t_fin,N):\n",
        "\n",
        "  h=(t_fin-t_ini)/N\n",
        "  t=np.linspace(t_ini,t_fin,N)\n",
        "  y=np.zeros(N)\n",
        "  y[0]=y0\n",
        "  for i in range(N-1):\n",
        "    y[i+1]=y[i]+h*f(y[i],t)\n",
        "  return y,t\n",
        "\n",
        "def inte_MC(f,a,b,N):\n",
        "  xr=random.uniform(a,b,N)\n",
        "  yr=np.zeros(N)\n",
        "  t=np.linspace(a,b,N)\n",
        "  for i in range(N):\n",
        "    yr[i]=f(xr[i],t)\n",
        "  rta=(b-a)*np.mean(yr)\n",
        "  return rta\n",
        "\n",
        "\n",
        "def ODE_MC(fc,x,y0,N):\n",
        "  Y=np.zeros(N)\n",
        "  \n",
        "  Y[0]=y0  \n",
        "  for i in range(N-1):\n",
        "    Y[i+1]=y[i]+inte_MC(fc,x[i],x[i+1],N)\n",
        "    \n",
        "\n",
        "  return Y"
      ],
      "execution_count": null,
      "outputs": []
    },
    {
      "cell_type": "code",
      "metadata": {
        "id": "AHpUHVuYnoiG",
        "colab": {
          "base_uri": "https://localhost:8080/",
          "height": 468
        },
        "outputId": "2875d302-7e3d-4f08-8131-4afa0d2d100c"
      },
      "source": [
        "areas=np.zeros(N)\n",
        "c=0\n",
        "d=np.pi\n",
        "K=1000\n",
        "\n",
        "for i in range(K):\n",
        "  areas[i]=inte_MC(f3,c,d,K)\n",
        "\n",
        "plt.title('Distribución de las areas calculadas')\n",
        "plt.hist(areas,bins=30,ec='black')"
      ],
      "execution_count": null,
      "outputs": [
        {
          "output_type": "execute_result",
          "data": {
            "text/plain": [
              "(array([ 1.,  0.,  2.,  5.,  4.,  5.,  9., 10., 26., 33., 37., 45., 52.,\n",
              "        76., 73., 87., 80., 81., 68., 68., 54., 48., 41., 36., 30.,  5.,\n",
              "        11.,  6.,  4.,  3.]),\n",
              " array([1.89755742, 1.90374845, 1.90993948, 1.91613052, 1.92232155,\n",
              "        1.92851258, 1.93470362, 1.94089465, 1.94708568, 1.95327672,\n",
              "        1.95946775, 1.96565878, 1.97184982, 1.97804085, 1.98423188,\n",
              "        1.99042292, 1.99661395, 2.00280498, 2.00899602, 2.01518705,\n",
              "        2.02137808, 2.02756912, 2.03376015, 2.03995118, 2.04614221,\n",
              "        2.05233325, 2.05852428, 2.06471531, 2.07090635, 2.07709738,\n",
              "        2.08328841]),\n",
              " <a list of 30 Patch objects>)"
            ]
          },
          "metadata": {
            "tags": []
          },
          "execution_count": 146
        },
        {
          "output_type": "display_data",
          "data": {
            "image/png": "[encoded data removed]",
            "text/plain": [
              "<Figure size 432x288 with 1 Axes>"
            ]
          },
          "metadata": {
            "tags": [],
            "needs_background": "light"
          }
        }
      ]
    },
    {
      "cell_type": "code",
      "metadata": {
        "id": "a6aE4FnGZITO",
        "colab": {
          "base_uri": "https://localhost:8080/",
          "height": 269
        },
        "outputId": "93993119-9b7c-4757-bb3a-9a92a78654a9"
      },
      "source": [
        "plt.clf()\n",
        "ini=0\n",
        "fin=1\n",
        "plt.xlim(ini, fin)\n",
        "plt.ylim(ini, fin)\n",
        "xe=np.linspace(ini,fin,1000)\n",
        "plt.plot(xe,f4(xe))\n",
        "plt.grid()\n",
        "M=10\n",
        "dx=(fin-ini)/M\n",
        "X  = np.random.random(M)*(fin - ini) + ini\n",
        "\n",
        "plt.scatter(X, f4(X))\n",
        "\n",
        "for x in X:\n",
        "    plt.plot([x-dx/2, x-dx/2, x+dx/2, x+dx/2], [0,f4(x), f4(x), 0], color = \"g\")\n",
        "\n",
        "\n"
      ],
      "execution_count": null,
      "outputs": [
        {
          "output_type": "display_data",
          "data": {
            "image/png": "[encoded data removed]",
            "text/plain": [
              "<Figure size 432x288 with 1 Axes>"
            ]
          },
          "metadata": {
            "tags": [],
            "needs_background": "light"
          }
        }
      ]
    },
    {
      "cell_type": "code",
      "metadata": {
        "id": "uCk6SxyMuN9M",
        "colab": {
          "base_uri": "https://localhost:8080/",
          "height": 282
        },
        "outputId": "665633ac-c2c5-4019-b199-a799717ac275"
      },
      "source": [
        "a=0\n",
        "b=10\n",
        "N=1000\n",
        "\n",
        "x=np.linspace(a,b,N)\n",
        "t=np.linspace(a,b,N)\n",
        "y=f(x,t)\n",
        "y0=0 #Condicion inicial\n",
        "\n",
        "plt.plot(t,y)"
      ],
      "execution_count": null,
      "outputs": [
        {
          "output_type": "execute_result",
          "data": {
            "text/plain": [
              "[<matplotlib.lines.Line2D at 0x7f48765308d0>]"
            ]
          },
          "metadata": {
            "tags": []
          },
          "execution_count": 158
        },
        {
          "output_type": "display_data",
          "data": {
            "image/png": "[encoded data removed]",
            "text/plain": [
              "<Figure size 432x288 with 1 Axes>"
            ]
          },
          "metadata": {
            "tags": [],
            "needs_background": "light"
          }
        }
      ]
    },
    {
      "cell_type": "code",
      "metadata": {
        "id": "gN1CTySPGdmc",
        "colab": {
          "base_uri": "https://localhost:8080/",
          "height": 303
        },
        "outputId": "87f448fd-2ba9-4ae0-d25a-6defdcfdaa6d"
      },
      "source": [
        "from scipy.integrate import solve_ivp\n",
        "Ysolve=solve_ivp(f,[a,b],[y0],t_eval=T)\n",
        "\n",
        "\n",
        "Y,T=euler(f,y0,a,b,N)\n",
        "Ode=ODE_MC(f,t,y0,N)\n",
        "\n",
        "plt.plot(T,Y,label='euler')\n",
        "plt.plot(T,Ode,label='MC')\n",
        "plt.plot(T,Ysolve.y[0],label='Solución analitica')\n",
        "\n",
        "plt.axis([-4,4,0,10])\n",
        "plt.legend()\n",
        "plt.grid()\n",
        "\n",
        "\n",
        "\n",
        "\n",
        "#print(Ode)"
      ],
      "execution_count": null,
      "outputs": [
        {
          "output_type": "stream",
          "text": [
            "/usr/local/lib/python3.6/dist-packages/ipykernel_launcher.py:2: RuntimeWarning: overflow encountered in double_scalars\n",
            "  \n"
          ],
          "name": "stderr"
        },
        {
          "output_type": "display_data",
          "data": {
            "image/png": "[encoded data removed]",
            "text/plain": [
              "<Figure size 432x288 with 1 Axes>"
            ]
          },
          "metadata": {
            "tags": [],
            "needs_background": "light"
          }
        }
      ]
    },
    {
      "cell_type": "code",
      "metadata": {
        "id": "P246Fh1oCT1G",
        "colab": {
          "base_uri": "https://localhost:8080/",
          "height": 1000
        },
        "outputId": "81a75965-a7db-4c7b-be2d-4f45fc47f1b6"
      },
      "source": [
        "#print(t)\n",
        "Z=1000\n",
        "y0=0\n",
        "res=inte_MC(f,t[0],t[1],Z)\n",
        "print(res)\n",
        "\n",
        "res2=inte_MC(f,t[1],t[2],Z)\n",
        "print(res2)\n",
        "res3=inte_MC(f,t[2],t[3],Z)\n",
        "print(res3)\n",
        "\n",
        "\n",
        "r1=ODE_MC(f,t,0,Z)\n",
        "print(r1[0])\n",
        "\n",
        "print(r1)\n",
        "\n",
        "\n",
        "\n",
        "plt.plot(resultado)"
      ],
      "execution_count": null,
      "outputs": [
        {
          "output_type": "stream",
          "text": [
            "0.020020022504083915\n",
            "0.020020056961967864\n",
            "0.020020184217157993\n",
            "0.0\n",
            "[   0.            2.02002002    2.02002106    2.02002821    2.02004754\n",
            "    2.02008514    2.02014709    2.02023946    2.02036831    2.02053979\n",
            "    2.02075986    2.02103465    2.02137038    2.02177293    2.02224845\n",
            "    2.02280298    2.02344261    2.02417365    2.0250017     2.02593331\n",
            "    2.0269742     2.02813058    2.02940863    2.03081454    2.03235383\n",
            "    2.03403311    2.03585807    2.03783562    2.03997108    2.04227049\n",
            "    2.04474021    2.04738594    2.05021491    2.05323155    2.05644249\n",
            "    2.05985489    2.06347264    2.0673051     2.07135499    2.07563006\n",
            "    2.08013674    2.08487862    2.08986635    2.09510066    2.10059251\n",
            "    2.10634556    2.11236476    2.11865772    2.12523156    2.13208993\n",
            "    2.13924091    2.14669077    2.15443998    2.16250445    2.17088119\n",
            "    2.17958247    2.18861178    2.19797547    2.20767692    2.21772813\n",
            "    2.22813005    2.23889188    2.25001796    2.26151446    2.27338976\n",
            "    2.28564761    2.29829161    2.31133282    2.32477665    2.33862494\n",
            "    2.35288822    2.36756886    2.3826741     2.39821483    2.41419372\n",
            "    2.43061402    2.44748503    2.46481041    2.48259757    2.50085583\n",
            "    2.51958251    2.53879676    2.55849178    2.57868286    2.59937228\n",
            "    2.62056074    2.64226624    2.66448678    2.68722848    2.71049947\n",
            "    2.73430628    2.75865403    2.78354492    2.80899441    2.83499735\n",
            "    2.86157298    2.8887183     2.91644049    2.94473695    2.97363817\n",
            "    3.0031308     3.03322005    3.06391656    3.09522925    3.12716626\n",
            "    3.15972059    3.19291642    3.22674214    3.26121856    3.29634275\n",
            "    3.3321319     3.36856477    3.40567807    3.4434707     3.48193568\n",
            "    3.52109335    3.56093483    3.60147712    3.64273673    3.68469675\n",
            "    3.72737339    3.77077306    3.8149111     3.8597898     3.90538787\n",
            "    3.95174904    3.99885943    4.04673095    4.09536389    4.14478278\n",
            "    4.19497113    4.24594174    4.29769726    4.35024884    4.4036227\n",
            "    4.45778142    4.5127709     4.56857039    4.62520566    4.68266561\n",
            "    4.74097484    4.80011326    4.86010855    4.92096032    4.98268272\n",
            "    5.04526174    5.10874096    5.17308643    5.23831165    5.3044377\n",
            "    5.37145094    5.43939709    5.5082174     5.57798829    5.64866882\n",
            "    5.72028454    5.79283766    5.86633659    5.94077643    6.01616783\n",
            "    6.09254625    6.16985386    6.24813445    6.32741434    6.40767295\n",
            "    6.48891924    6.57116424    6.65440882    6.73866691    6.82394197\n",
            "    6.91022197    6.99756443    7.08589804    7.1752968     7.26573976\n",
            "    7.35722226    7.44976955    7.54338044    7.63806991    7.73382678\n",
            "    7.8306657     7.928594      8.02760077    8.1277416     8.22896216\n",
            "    8.33128419    8.43478306    8.53933506    8.64507649    8.75192676\n",
            "    8.85991347    8.96903818    9.07934055    9.19078767    9.30342736\n",
            "    9.41721736    9.5321991     9.64839134    9.76573212    9.88427818\n",
            "   10.00402673   10.12499057   10.24717501   10.37057135   10.49520297\n",
            "   10.62106673   10.74817942   10.87652287   11.0061333    11.13698282\n",
            "   11.26911921   11.40249753   11.53716007   11.67311845   11.81037042\n",
            "   11.94890133   12.08874889   12.22991523   12.3723648    12.51612956\n",
            "   12.66124687   12.80767928   12.95541663   13.10454238   13.25502498\n",
            "   13.40684321   13.56002175   13.71456528   13.87048111   14.02778847\n",
            "   14.18646784   14.3465762    14.50801894   14.67091929   14.8351983\n",
            "   15.00093204   15.16804181   15.33660226   15.50658506   15.67804172\n",
            "   15.85088272   16.02525662   16.20104192   16.37829339   16.55700456\n",
            "   16.73723762   16.91894218   17.10210079   17.2867593    17.47290927\n",
            "   17.66065257   17.8497775    18.04052928   18.23276296   18.42653589\n",
            "   18.62183634   18.81871243   19.01707591   19.21706979   19.41858489\n",
            "   19.62169697   19.82631496   20.03255676   20.24039259   20.4498338\n",
            "   20.66085984   20.87350692   21.08775617   21.30356962   21.52103436\n",
            "   21.74019366   21.96090722   22.18327394   22.40730298   22.63297331\n",
            "   22.86038583   23.08936515   23.32004367   23.55239294   23.78645095\n",
            "   24.02214654   24.25958676   24.49872141   24.73955096   24.98213202\n",
            "   25.22636976   25.47242526   25.72010668   25.96957404   26.22077849\n",
            "   26.47373311   26.72843901   26.98494726   27.24324119   27.50320873\n",
            "   27.76505532   28.02868001   28.29400267   28.561205     28.83023822\n",
            "   29.10098015   29.37362483   29.64802618   29.9243603    30.20241384\n",
            "   30.48241839   30.76415958   31.04782849   31.33336489   31.62073176\n",
            "   31.90991313   32.20113447   32.4941214    32.78900699   33.0858324\n",
            "   33.3845554    33.68518271   33.9876845    34.29213422   34.59845906\n",
            "   34.90684311   35.21705138   35.52923898   35.84340165   36.15948416\n",
            "   36.47751085   36.79763945   37.11959333   37.44353013   37.76954201\n",
            "   38.0976011    38.42755217   38.7594501    39.09346909   39.42942363\n",
            "   39.76747479   40.10757131   40.44961423   40.79382383   41.14001386\n",
            "   41.48815112   41.83853569   42.19086274   42.54535638   42.90190122\n",
            "   43.26050438   43.62112211   43.98399844   44.34882035   44.71584588\n",
            "   45.08499132   45.45620235   45.82953421   46.20513173   46.58273788\n",
            "   46.96248803   47.34447327   47.72850446   48.11481004   48.50330799\n",
            "   48.89381096   49.28661638   49.68156088   50.07878982   50.4781595\n",
            "   50.87980138   51.28358232   51.68952928   52.09774154   52.50818023\n",
            "   52.92098648   53.33593182   53.75313139   54.17258641   54.59422408\n",
            "   55.01831766   55.44444165   55.87299463   56.30384498   56.73692692\n",
            "   57.17235439   57.61001191   58.05009573   58.49244402   58.93702683\n",
            "   59.38400645   59.83337729   60.28502937   60.73899892   61.1954111\n",
            "   61.65413158   62.11519134   62.57863653   63.04444253   63.51275166\n",
            "   63.98338018   64.45622628   64.93167156   65.40949471   65.88972526\n",
            "   66.37236819   66.85738791   67.34482604   67.83476842   68.32717646\n",
            "   68.82201389   69.31927794   69.8189139    70.32124417   70.82590057\n",
            "   71.33306967   71.84269219   72.3548605    72.86942352   73.3866088\n",
            "   73.90628214   74.42849592   74.95316066   75.48032955   76.01005264\n",
            "   76.54230953   77.07731895   77.61464724   78.15457013   78.69714478\n",
            "   79.24224351   79.78982676   80.34013807   80.89288902   81.44839606\n",
            "   82.00645543   82.56704855   83.13033441   83.69620802   84.26469598\n",
            "   84.83587458   85.40949318   85.98602167   86.56516852   87.1468798\n",
            "   87.73126189   88.31824645   88.90802826   89.5003971    90.09548473\n",
            "   90.69332434   91.29369637   91.89702513   92.50276108   93.11136933\n",
            "   93.72279959   94.3369757    94.95365202   95.57330018   96.19554928\n",
            "   96.8206472    97.44842657   98.07892631   98.71239361   99.3485052\n",
            "   99.98738353  100.62902865  101.27350486  101.92078571  102.57105313\n",
            "  103.22390784  103.87973354  104.53819651  105.19964826  105.86388185\n",
            "  106.53081259  107.20084584  107.87358739  108.54928816  109.22772968\n",
            "  109.90915461  110.59353574  111.28055745  111.97083414  112.6637406\n",
            "  113.35952066  114.05831686  114.7598773   115.46451863  116.1720949\n",
            "  116.88261126  117.596227    118.31253206  119.03172909  119.75406976\n",
            "  120.47938737  121.20756075  121.93873236  122.67298005  123.4100999\n",
            "  124.15032051  124.89337943  125.63968704  126.38875985  127.14112576\n",
            "  127.89626009  128.65460578  129.41582986  130.1802047   130.94772947\n",
            "  131.71806582  132.49171913  133.26827206  134.04808674  134.83068195\n",
            "  135.61652141  136.40564346  137.19751155  137.99277887  138.79104656\n",
            "  139.59233365  140.39690783  141.20437946  142.01530309  142.82932341\n",
            "  143.64633327  144.4665024   145.28982178  146.11644629  146.94606009\n",
            "  147.77902377  148.61511516  149.45436009  150.29675921  151.14255848\n",
            "  151.99151934  152.84348347  153.69880801  154.55746834  155.4192053\n",
            "  156.28420191  157.15242374  158.02396332  158.89863408  159.77678534\n",
            "  160.65824465  161.54263417  162.43061818  163.3217203   164.21619913\n",
            "  165.11405742  166.01489754  166.91941234  167.82715685  168.73791958\n",
            "  169.65258106  170.57006949  171.49115753  172.41534963  173.34342932\n",
            "  174.27445387  175.20890226  176.1465921   177.08780181  178.03245092\n",
            "  178.98047157  179.93182875  180.88661764  181.84461229  182.80646546\n",
            "  183.77158704  184.73996338  185.71186205  186.6870054   187.6660448\n",
            "  188.64823181  189.63399543  190.62305923  191.61578312  192.61177975\n",
            "  193.61155144  194.61464881  195.62111327  196.63121513  197.64484091\n",
            "  198.66201075  199.68265139  200.70680487  201.73445191  202.76548769\n",
            "  203.80040286  204.83857323  205.88047841  206.92583557  207.97495027\n",
            "  209.02764043  210.08369919  211.14327012  212.20687525  213.27355367\n",
            "  214.34413613  215.41843667  216.49613358  217.57743487  218.66246087\n",
            "  219.75113919  220.84346129  221.93942954  223.03898442  224.14212847\n",
            "  225.24899211  226.35973716  227.47405567  228.59175431  229.71337068\n",
            "  230.83879089  231.96791079  233.10058389  234.23720295  235.37718543\n",
            "  236.52105324  237.66872193  238.8200396   239.97521534  241.13412782\n",
            "  242.29666695  243.46316556  244.63326569  245.8069207   246.98492552\n",
            "  248.16627704  249.35169645  250.54043658  251.73353922  252.93039764\n",
            "  254.13078962  255.33514743  256.54339373  257.75538857  258.97103169\n",
            "  260.19098593  261.4143627   262.64188922  263.87316353  265.10821992\n",
            "  266.34733531  267.59000256  268.83698564  270.08780429  271.34213381\n",
            "  272.60083895  273.8631469   275.12950885  276.40002289  277.67405885\n",
            "  278.95197207  280.23418456  281.52010734  282.81016394  284.10417673\n",
            "  285.40208324  286.70416112  288.00998041  289.31972428  290.6335553\n",
            "  291.95133687  293.2733218   294.59898865  295.92904751  297.26313516\n",
            "  298.60118795  299.94300042  301.28888779  302.63898034  303.9932302\n",
            "  305.35133802  306.71362701  308.07989001  309.45033928  310.82466638\n",
            "  312.20308695  313.58629854  314.97292218  316.3637001   317.7587972\n",
            "  319.15786021  320.56129336  321.96865948  323.38010178  324.795656\n",
            "  326.21555786  327.63940546  329.06779687  330.49988212  331.93633167\n",
            "  333.37691571  334.82204843  336.27113876  337.72437271  339.18177122\n",
            "  340.64349398  342.10936267  343.57946084  345.05385936  346.53239689\n",
            "  348.01521861  349.50240705  350.99376242  352.48892737  353.98896179\n",
            "  355.49338776  357.00146638  358.51396414  360.03128297  361.5523578\n",
            "  363.07804723  364.60816513  366.1420132   367.68064312  369.22379366\n",
            "  370.77078959  372.32207651  373.87798516  375.43859112  377.00303997\n",
            "  378.57163617  380.14523019  381.72291913  383.30513933  384.89146796\n",
            "  386.48228544  388.07777513  389.67704248  391.28124732  392.89014225\n",
            "  394.50282527  396.12039018  397.74198204  399.36820825  400.99905552\n",
            "  402.63412631  404.27367018  405.91762415  407.56655722  409.21936325\n",
            "  410.87691976  412.538737    414.20563475  415.87637234  417.55183706\n",
            "  419.23195788  420.91643039  422.60547344  424.29906486  425.99707966\n",
            "  427.70000243  429.40723282  431.11921783  432.83546675  434.55646222\n",
            "  436.2819224   438.01182327  439.74686062  441.48605112  443.2302168\n",
            "  444.97804785  446.73181755  448.48953251  450.25179655  452.01880873\n",
            "  453.79059334  455.56679581  457.34739857  459.13323266  460.9236758\n",
            "  462.71872703  464.51799472  466.3223143   468.1310511   469.94460408\n",
            "  471.76326863  473.58626361  475.4141101   477.24655336  479.08345544\n",
            "  480.92559151  482.77220523  484.62349352  486.47995491  488.34056472\n",
            "  490.20630507  492.07679637  493.9519283   495.83196876  497.71685249\n",
            "  499.60644308  501.50085842  503.3999073   505.30362191  507.21272074\n",
            "  509.12604939  511.04459344  512.96772402  514.89604978  516.82881798\n",
            "  518.7667291   520.70932945  522.65702914  524.60894929  526.5663166\n",
            "  528.52876203  530.49534572  532.46756921  534.44420523  536.42610838\n",
            "  538.41240959  540.40444236  542.40065587  544.40218803  546.4085348\n",
            "  548.41968994  550.43561923  552.45681413  554.48313958  556.5142366\n",
            "  558.55045992  560.59087171  562.63758777  564.68804226  566.7445584\n",
            "  568.80540958  570.87148577  572.94259844  575.0186879   577.09983708\n",
            "  579.18589298  581.27675536  583.37340061  585.47492469  587.58061177\n",
            "  589.69288117  591.8086394   593.93029779  596.05647538  598.18829324\n",
            "  600.32533934  602.46696337  604.61416296  606.76620936  608.92320501\n",
            "  611.08619709  613.25307253  615.42568633  617.60336342  619.78628075\n",
            "  621.97438604  624.16781359  626.36646243  628.56991298  630.77893537\n",
            "  632.99263511  635.21144262  637.43565538  639.66532368  641.90026712\n",
            "  644.14009661  646.38532204  648.63596572  650.89146877  653.15175966\n",
            "  655.41812579  657.68924318  659.96624     662.24814606  664.53517693\n",
            "  666.82749493  669.12558052  671.42821101  673.73627245  676.05001604\n",
            "  678.36889124  680.69337344  683.02279705  685.357755    687.69753769\n",
            "  690.04304032  692.39419624  694.75054328  697.11212784  699.47923355\n",
            "  701.85149384  704.22899374  706.61191191  709.00059959  711.39420592\n",
            "  713.79362258  716.19807273  718.60802857  721.02345006  723.44458994\n",
            "  725.87041182  728.30248318  730.73926662  733.18246632  735.63025192\n",
            "  738.08375283  740.54304218  743.00724145  745.47711128  747.95246736\n",
            "  750.43350945  752.92014573  755.41195031  757.90922705  760.41240378\n",
            "  762.92089297  765.43478969  767.95406962  770.47903185  773.00951798\n",
            "  775.54536877  778.08746533  780.634975    783.18729817  785.74611743\n",
            "  788.31006443  790.87973096  793.4549112   796.03555451  798.62209105\n",
            "  801.2136057   803.81184491  806.41464001  809.0238542   811.63832102\n",
            "  814.25827326  816.8846192   819.51532401  822.15263628  824.79452658\n",
            "  827.44342092  830.09733902  832.7571206   835.42232541  838.09421791\n",
            "  840.77039452  843.45298667  846.14184219  848.8357183   851.53523592\n",
            "  854.24070027  856.95174134  859.66899046  862.39150607  865.12015827\n",
            "  867.85439629  870.59398859  873.33976548  876.09123139  878.84886089\n",
            "  881.61144189  884.38077786  887.15509768  889.93580066  892.7222\n",
            "  895.51449423  898.31201935  901.11604769  903.92606032  906.74117216\n",
            "  909.56201964  912.38962907  915.22273616  918.06170242  920.90621178\n",
            "  923.75732176  926.61447694  929.47660513  932.34553511  935.2193436\n",
            "  938.09949318  940.98553415  943.87800023  946.7754573   949.67999702\n",
            "  952.58952392  955.50504344  958.42712496  961.35504956  964.28906109\n",
            "  967.22764638  970.17402144  973.12585315  976.08299281  979.04668695\n",
            "  982.01686479  984.99273646  987.97405432  990.9624039   993.95604256\n",
            "  996.95552555  999.96130125 1002.9724148  1005.99128537 1009.01484802]\n"
          ],
          "name": "stdout"
        },
        {
          "output_type": "execute_result",
          "data": {
            "text/plain": [
              "[<matplotlib.lines.Line2D at 0x7f4879171ac8>]"
            ]
          },
          "metadata": {
            "tags": []
          },
          "execution_count": 140
        },
        {
          "output_type": "display_data",
          "data": {
            "image/png": "[encoded data removed]",
            "text/plain": [
              "<Figure size 432x288 with 1 Axes>"
            ]
          },
          "metadata": {
            "tags": [],
            "needs_background": "light"
          }
        }
      ]
    },
    {
      "cell_type": "code",
      "metadata": {
        "id": "ro8dUvZ4-EBj",
        "colab": {
          "base_uri": "https://localhost:8080/"
        },
        "outputId": "2bf4e619-e1ef-4ce8-e7be-ce4012734bd5"
      },
      "source": [
        "n=1\n",
        "x0=0\n",
        "s=np.zeros(10)\n",
        "r=[1,2,3,4,5,6,7,8,9,10]\n",
        "s[0]=x0\n",
        "for n in range(10):\n",
        "  s[n]=r[n]\n",
        "\n",
        "print(s)"
      ],
      "execution_count": null,
      "outputs": [
        {
          "output_type": "stream",
          "text": [
            "[ 1.  2.  3.  4.  5.  6.  7.  8.  9. 10.]\n"
          ],
          "name": "stdout"
        }
      ]
    },
    {
      "cell_type": "code",
      "metadata": {
        "id": "x7FWN1OURDvI"
      },
      "source": [
        ""
      ],
      "execution_count": null,
      "outputs": []
    }
  ]
}